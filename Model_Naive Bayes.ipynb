{
 "cells": [
  {
   "cell_type": "code",
   "execution_count": 1,
   "metadata": {
    "colab": {},
    "colab_type": "code",
    "id": "coI5jifnoVZZ"
   },
   "outputs": [],
   "source": [
    "# Importing relevant ibraries\n",
    "import numpy as np\n",
    "import pandas as pd\n",
    "import matplotlib.pyplot as plt\n",
    "import seaborn as sns"
   ]
  },
  {
   "cell_type": "code",
   "execution_count": 2,
   "metadata": {
    "colab": {},
    "colab_type": "code",
    "id": "j6CmfWbOoVZd",
    "outputId": "85f0c9fc-3f8a-44e0-e579-4a0284dcbd41"
   },
   "outputs": [
    {
     "data": {
      "text/html": [
       "<div>\n",
       "<style scoped>\n",
       "    .dataframe tbody tr th:only-of-type {\n",
       "        vertical-align: middle;\n",
       "    }\n",
       "\n",
       "    .dataframe tbody tr th {\n",
       "        vertical-align: top;\n",
       "    }\n",
       "\n",
       "    .dataframe thead th {\n",
       "        text-align: right;\n",
       "    }\n",
       "</style>\n",
       "<table border=\"1\" class=\"dataframe\">\n",
       "  <thead>\n",
       "    <tr style=\"text-align: right;\">\n",
       "      <th></th>\n",
       "      <th>age</th>\n",
       "      <th>job</th>\n",
       "      <th>marital</th>\n",
       "      <th>education</th>\n",
       "      <th>default</th>\n",
       "      <th>balance</th>\n",
       "      <th>housing</th>\n",
       "      <th>loan</th>\n",
       "      <th>contact</th>\n",
       "      <th>day</th>\n",
       "      <th>month</th>\n",
       "      <th>duration</th>\n",
       "      <th>campaign</th>\n",
       "      <th>pdays</th>\n",
       "      <th>previous</th>\n",
       "      <th>poutcome</th>\n",
       "      <th>y</th>\n",
       "    </tr>\n",
       "  </thead>\n",
       "  <tbody>\n",
       "    <tr>\n",
       "      <th>0</th>\n",
       "      <td>30</td>\n",
       "      <td>unemployed</td>\n",
       "      <td>married</td>\n",
       "      <td>primary</td>\n",
       "      <td>no</td>\n",
       "      <td>1787</td>\n",
       "      <td>no</td>\n",
       "      <td>no</td>\n",
       "      <td>cellular</td>\n",
       "      <td>19</td>\n",
       "      <td>oct</td>\n",
       "      <td>79</td>\n",
       "      <td>1</td>\n",
       "      <td>-1</td>\n",
       "      <td>0</td>\n",
       "      <td>unknown</td>\n",
       "      <td>no</td>\n",
       "    </tr>\n",
       "    <tr>\n",
       "      <th>1</th>\n",
       "      <td>33</td>\n",
       "      <td>services</td>\n",
       "      <td>married</td>\n",
       "      <td>secondary</td>\n",
       "      <td>no</td>\n",
       "      <td>4789</td>\n",
       "      <td>yes</td>\n",
       "      <td>yes</td>\n",
       "      <td>cellular</td>\n",
       "      <td>11</td>\n",
       "      <td>may</td>\n",
       "      <td>220</td>\n",
       "      <td>1</td>\n",
       "      <td>339</td>\n",
       "      <td>4</td>\n",
       "      <td>failure</td>\n",
       "      <td>no</td>\n",
       "    </tr>\n",
       "    <tr>\n",
       "      <th>2</th>\n",
       "      <td>35</td>\n",
       "      <td>management</td>\n",
       "      <td>single</td>\n",
       "      <td>tertiary</td>\n",
       "      <td>no</td>\n",
       "      <td>1350</td>\n",
       "      <td>yes</td>\n",
       "      <td>no</td>\n",
       "      <td>cellular</td>\n",
       "      <td>16</td>\n",
       "      <td>apr</td>\n",
       "      <td>185</td>\n",
       "      <td>1</td>\n",
       "      <td>330</td>\n",
       "      <td>1</td>\n",
       "      <td>failure</td>\n",
       "      <td>no</td>\n",
       "    </tr>\n",
       "    <tr>\n",
       "      <th>3</th>\n",
       "      <td>30</td>\n",
       "      <td>management</td>\n",
       "      <td>married</td>\n",
       "      <td>tertiary</td>\n",
       "      <td>no</td>\n",
       "      <td>1476</td>\n",
       "      <td>yes</td>\n",
       "      <td>yes</td>\n",
       "      <td>unknown</td>\n",
       "      <td>3</td>\n",
       "      <td>jun</td>\n",
       "      <td>199</td>\n",
       "      <td>4</td>\n",
       "      <td>-1</td>\n",
       "      <td>0</td>\n",
       "      <td>unknown</td>\n",
       "      <td>no</td>\n",
       "    </tr>\n",
       "    <tr>\n",
       "      <th>4</th>\n",
       "      <td>59</td>\n",
       "      <td>blue-collar</td>\n",
       "      <td>married</td>\n",
       "      <td>secondary</td>\n",
       "      <td>no</td>\n",
       "      <td>0</td>\n",
       "      <td>yes</td>\n",
       "      <td>no</td>\n",
       "      <td>unknown</td>\n",
       "      <td>5</td>\n",
       "      <td>may</td>\n",
       "      <td>226</td>\n",
       "      <td>1</td>\n",
       "      <td>-1</td>\n",
       "      <td>0</td>\n",
       "      <td>unknown</td>\n",
       "      <td>no</td>\n",
       "    </tr>\n",
       "  </tbody>\n",
       "</table>\n",
       "</div>"
      ],
      "text/plain": [
       "   age          job  marital  education default  balance housing loan  \\\n",
       "0   30   unemployed  married    primary      no     1787      no   no   \n",
       "1   33     services  married  secondary      no     4789     yes  yes   \n",
       "2   35   management   single   tertiary      no     1350     yes   no   \n",
       "3   30   management  married   tertiary      no     1476     yes  yes   \n",
       "4   59  blue-collar  married  secondary      no        0     yes   no   \n",
       "\n",
       "    contact  day month  duration  campaign  pdays  previous poutcome   y  \n",
       "0  cellular   19   oct        79         1     -1         0  unknown  no  \n",
       "1  cellular   11   may       220         1    339         4  failure  no  \n",
       "2  cellular   16   apr       185         1    330         1  failure  no  \n",
       "3   unknown    3   jun       199         4     -1         0  unknown  no  \n",
       "4   unknown    5   may       226         1     -1         0  unknown  no  "
      ]
     },
     "execution_count": 2,
     "metadata": {},
     "output_type": "execute_result"
    }
   ],
   "source": [
    "data_original = pd.read_csv('bank_marketing.csv')\n",
    "data_original.head()"
   ]
  },
  {
   "cell_type": "markdown",
   "metadata": {
    "colab_type": "text",
    "id": "skZTKggvoVZk"
   },
   "source": [
    "We'll be modeling KNN classifiers on a revised dataset,\n",
    "**by Dropping 'default' column from original dataset**"
   ]
  },
  {
   "cell_type": "code",
   "execution_count": 3,
   "metadata": {
    "colab": {},
    "colab_type": "code",
    "id": "Od0Oc_YQoVZk",
    "outputId": "bd327df5-ce72-416f-c43a-374deff02912"
   },
   "outputs": [
    {
     "data": {
      "text/html": [
       "<div>\n",
       "<style scoped>\n",
       "    .dataframe tbody tr th:only-of-type {\n",
       "        vertical-align: middle;\n",
       "    }\n",
       "\n",
       "    .dataframe tbody tr th {\n",
       "        vertical-align: top;\n",
       "    }\n",
       "\n",
       "    .dataframe thead th {\n",
       "        text-align: right;\n",
       "    }\n",
       "</style>\n",
       "<table border=\"1\" class=\"dataframe\">\n",
       "  <thead>\n",
       "    <tr style=\"text-align: right;\">\n",
       "      <th></th>\n",
       "      <th>age</th>\n",
       "      <th>job</th>\n",
       "      <th>marital</th>\n",
       "      <th>education</th>\n",
       "      <th>balance</th>\n",
       "      <th>housing</th>\n",
       "      <th>loan</th>\n",
       "      <th>contact</th>\n",
       "      <th>day</th>\n",
       "      <th>month</th>\n",
       "      <th>duration</th>\n",
       "      <th>campaign</th>\n",
       "      <th>pdays</th>\n",
       "      <th>previous</th>\n",
       "      <th>poutcome</th>\n",
       "      <th>y</th>\n",
       "    </tr>\n",
       "  </thead>\n",
       "  <tbody>\n",
       "    <tr>\n",
       "      <th>0</th>\n",
       "      <td>30</td>\n",
       "      <td>unemployed</td>\n",
       "      <td>married</td>\n",
       "      <td>primary</td>\n",
       "      <td>1787</td>\n",
       "      <td>no</td>\n",
       "      <td>no</td>\n",
       "      <td>cellular</td>\n",
       "      <td>19</td>\n",
       "      <td>oct</td>\n",
       "      <td>79</td>\n",
       "      <td>1</td>\n",
       "      <td>-1</td>\n",
       "      <td>0</td>\n",
       "      <td>unknown</td>\n",
       "      <td>no</td>\n",
       "    </tr>\n",
       "    <tr>\n",
       "      <th>1</th>\n",
       "      <td>33</td>\n",
       "      <td>services</td>\n",
       "      <td>married</td>\n",
       "      <td>secondary</td>\n",
       "      <td>4789</td>\n",
       "      <td>yes</td>\n",
       "      <td>yes</td>\n",
       "      <td>cellular</td>\n",
       "      <td>11</td>\n",
       "      <td>may</td>\n",
       "      <td>220</td>\n",
       "      <td>1</td>\n",
       "      <td>339</td>\n",
       "      <td>4</td>\n",
       "      <td>failure</td>\n",
       "      <td>no</td>\n",
       "    </tr>\n",
       "    <tr>\n",
       "      <th>2</th>\n",
       "      <td>35</td>\n",
       "      <td>management</td>\n",
       "      <td>single</td>\n",
       "      <td>tertiary</td>\n",
       "      <td>1350</td>\n",
       "      <td>yes</td>\n",
       "      <td>no</td>\n",
       "      <td>cellular</td>\n",
       "      <td>16</td>\n",
       "      <td>apr</td>\n",
       "      <td>185</td>\n",
       "      <td>1</td>\n",
       "      <td>330</td>\n",
       "      <td>1</td>\n",
       "      <td>failure</td>\n",
       "      <td>no</td>\n",
       "    </tr>\n",
       "    <tr>\n",
       "      <th>3</th>\n",
       "      <td>30</td>\n",
       "      <td>management</td>\n",
       "      <td>married</td>\n",
       "      <td>tertiary</td>\n",
       "      <td>1476</td>\n",
       "      <td>yes</td>\n",
       "      <td>yes</td>\n",
       "      <td>unknown</td>\n",
       "      <td>3</td>\n",
       "      <td>jun</td>\n",
       "      <td>199</td>\n",
       "      <td>4</td>\n",
       "      <td>-1</td>\n",
       "      <td>0</td>\n",
       "      <td>unknown</td>\n",
       "      <td>no</td>\n",
       "    </tr>\n",
       "    <tr>\n",
       "      <th>4</th>\n",
       "      <td>59</td>\n",
       "      <td>blue-collar</td>\n",
       "      <td>married</td>\n",
       "      <td>secondary</td>\n",
       "      <td>0</td>\n",
       "      <td>yes</td>\n",
       "      <td>no</td>\n",
       "      <td>unknown</td>\n",
       "      <td>5</td>\n",
       "      <td>may</td>\n",
       "      <td>226</td>\n",
       "      <td>1</td>\n",
       "      <td>-1</td>\n",
       "      <td>0</td>\n",
       "      <td>unknown</td>\n",
       "      <td>no</td>\n",
       "    </tr>\n",
       "  </tbody>\n",
       "</table>\n",
       "</div>"
      ],
      "text/plain": [
       "   age          job  marital  education  balance housing loan   contact  day  \\\n",
       "0   30   unemployed  married    primary     1787      no   no  cellular   19   \n",
       "1   33     services  married  secondary     4789     yes  yes  cellular   11   \n",
       "2   35   management   single   tertiary     1350     yes   no  cellular   16   \n",
       "3   30   management  married   tertiary     1476     yes  yes   unknown    3   \n",
       "4   59  blue-collar  married  secondary        0     yes   no   unknown    5   \n",
       "\n",
       "  month  duration  campaign  pdays  previous poutcome   y  \n",
       "0   oct        79         1     -1         0  unknown  no  \n",
       "1   may       220         1    339         4  failure  no  \n",
       "2   apr       185         1    330         1  failure  no  \n",
       "3   jun       199         4     -1         0  unknown  no  \n",
       "4   may       226         1     -1         0  unknown  no  "
      ]
     },
     "execution_count": 3,
     "metadata": {},
     "output_type": "execute_result"
    }
   ],
   "source": [
    "# Revised dataset: Dropping 'default' column from original dataset\n",
    "data_revised_1 = data_original.copy()\n",
    "data_revised_1.drop('default', axis=1, inplace=True)\n",
    "data_revised_1.head()"
   ]
  },
  {
   "cell_type": "markdown",
   "metadata": {
    "colab_type": "text",
    "id": "bpxaTqsVoVZp"
   },
   "source": [
    "**This dataset has an Imbalanced Target Class. In the 'y' column, there are 88% observations with label 'no' and ONLY 12% observations with label 'yes'. <br/>\n",
    "Machine learning algorithms have trouble learning when one class dominates the other in the target variable. And so before we train any ML model on this dataset we need to balance it appropriately.**"
   ]
  },
  {
   "cell_type": "markdown",
   "metadata": {
    "colab_type": "text",
    "id": "suHICl-ooVZq"
   },
   "source": [
    "## Handling Imbalanced Classes"
   ]
  },
  {
   "cell_type": "markdown",
   "metadata": {
    "colab_type": "text",
    "id": "mSunJkUAoVZq"
   },
   "source": [
    "### Method 1 - SMOTE (Synthetic Minority Over-sampling TEchnique)\n",
    "\n",
    "SMOTE draws artificial samples by choosing points that lie on the line connecting the rare observation to one of its nearest neighbors in the feature space."
   ]
  },
  {
   "cell_type": "code",
   "execution_count": 4,
   "metadata": {
    "colab": {},
    "colab_type": "code",
    "id": "YzF7KBmpoVZr"
   },
   "outputs": [],
   "source": [
    "# Importing relevant libraries\n",
    "from sklearn.model_selection import train_test_split\n",
    "from imblearn.over_sampling import SMOTE\n",
    "\n",
    "# First, convert all columns into numeric variables\n",
    "variables_set = ['age', 'balance', 'day', 'duration', 'campaign', 'pdays', 'previous', 'y']\n",
    "\n",
    "# One Hot Encoding: All categorical columns/variables in the dataset must be encoded as numeric values.\n",
    "# For dataset 1\n",
    "one_hot_encoded_job       = pd.get_dummies(data_revised_1['job'])\n",
    "one_hot_encoded_marital   = pd.get_dummies(data_revised_1['marital'])\n",
    "one_hot_encoded_education = pd.get_dummies(data_revised_1['education'])\n",
    "one_hot_encoded_housing   = pd.get_dummies(data_revised_1['housing'])\n",
    "one_hot_encoded_loan      = pd.get_dummies(data_revised_1['loan'])\n",
    "one_hot_encoded_contact   = pd.get_dummies(data_revised_1['contact'])\n",
    "one_hot_encoded_month     = pd.get_dummies(data_revised_1['month'])\n",
    "one_hot_encoded_poutcome  = pd.get_dummies(data_revised_1['poutcome'])\n",
    "\n",
    "data_revised_1_converted = data_revised_1[variables_set]\n",
    "\n",
    "data_revised_1_converted = pd.concat([data_revised_1_converted,\n",
    "                                      one_hot_encoded_job, \n",
    "                                      one_hot_encoded_marital, \n",
    "                                      one_hot_encoded_education,\n",
    "                                      one_hot_encoded_housing,\n",
    "                                      one_hot_encoded_loan,\n",
    "                                      one_hot_encoded_contact,\n",
    "                                      one_hot_encoded_month,\n",
    "                                      one_hot_encoded_poutcome], axis = 1)\n",
    "\n"
   ]
  },
  {
   "cell_type": "code",
   "execution_count": 5,
   "metadata": {},
   "outputs": [],
   "source": [
    "# From the 1st dataset, create a training set and a test set\n",
    "data_revised_1_X_train, data_revised_1_X_test, \\\n",
    "data_revised_1_y_train, data_revised_1_y_test = train_test_split(data_revised_1_converted.drop('y', axis=1),\n",
    "                                                                 data_revised_1_converted.y, \n",
    "                                                                 test_size=.1,       # Training set = 90%, Test set = 10%\n",
    "                                                                 random_state=12)\n",
    "\n",
    "# Use the training set to create another set of training and validation set\n",
    "X1_train, X1_val, y1_train, y1_val = train_test_split(data_revised_1_X_train, data_revised_1_y_train,\n",
    "                                                      test_size = .1,\n",
    "                                                      random_state=12)\n",
    "\n",
    "# Use SMOTE to over-sample this training set\n",
    "sm = SMOTE(random_state=12, ratio = 1.0)\n",
    "X1_train_res, y1_train_res = sm.fit_sample(X1_train, y1_train)"
   ]
  },
  {
   "cell_type": "code",
   "execution_count": null,
   "metadata": {},
   "outputs": [],
   "source": []
  },
  {
   "cell_type": "code",
   "execution_count": null,
   "metadata": {},
   "outputs": [],
   "source": []
  },
  {
   "cell_type": "code",
   "execution_count": null,
   "metadata": {},
   "outputs": [],
   "source": []
  },
  {
   "cell_type": "markdown",
   "metadata": {},
   "source": [
    "export to csv"
   ]
  },
  {
   "cell_type": "code",
   "execution_count": 6,
   "metadata": {},
   "outputs": [],
   "source": [
    "data_revised_1_converted.to_csv(\"all.csv\")\n",
    "X1_train.to_csv(\"xBefore.csv\")\n",
    "y1_train.to_csv(\"yBefroe.csv\")\n",
    "pd.DataFrame(data=X1_train_res).to_csv(\"xAfter.csv\")\n",
    "pd.DataFrame(data=y1_train_res).to_csv(\"yAfter.csv\")"
   ]
  },
  {
   "cell_type": "code",
   "execution_count": null,
   "metadata": {},
   "outputs": [],
   "source": []
  },
  {
   "cell_type": "code",
   "execution_count": null,
   "metadata": {},
   "outputs": [],
   "source": []
  },
  {
   "cell_type": "code",
   "execution_count": null,
   "metadata": {},
   "outputs": [],
   "source": []
  },
  {
   "cell_type": "code",
   "execution_count": null,
   "metadata": {},
   "outputs": [],
   "source": []
  },
  {
   "cell_type": "markdown",
   "metadata": {
    "colab_type": "text",
    "id": "HYK-beusoVZu"
   },
   "source": [
    "#### Building KNN Classifier using GridSearchCV"
   ]
  },
  {
   "cell_type": "code",
   "execution_count": 7,
   "metadata": {
    "colab": {},
    "colab_type": "code",
    "id": "R-LxDwDnoVZv",
    "outputId": "b6ba5283-81f3-4eca-b6f4-d2fa6e5b9f09"
   },
   "outputs": [
    {
     "name": "stdout",
     "output_type": "stream",
     "text": [
      "0.8855828220858896\n",
      "{'n_neighbors': 1, 'weights': 'uniform'}\n",
      "KNeighborsClassifier(algorithm='auto', leaf_size=30, metric='minkowski',\n",
      "           metric_params=None, n_jobs=None, n_neighbors=1, p=2,\n",
      "           weights='uniform')\n",
      "Accuracy of Classifier 1 is:  79.12\n"
     ]
    }
   ],
   "source": [
    "# Importing relevant libraries\n",
    "from sklearn.model_selection import GridSearchCV\n",
    "from sklearn.neighbors import KNeighborsClassifier\n",
    "from sklearn import metrics\n",
    "\n",
    "\n",
    "# Set a range for hyper-parameters\n",
    "k_range = list(range(1,19))\n",
    "weight_options = ['uniform', 'distance']\n",
    "\n",
    "param_grid = dict(n_neighbors = k_range, weights = weight_options)\n",
    "\n",
    "knn = KNeighborsClassifier()\n",
    "\n",
    "grid = GridSearchCV(knn, param_grid, cv=10, scoring='accuracy')\n",
    "grid.fit(X1_train_res,y1_train_res)\n",
    "\n",
    "#print(grid.grid_scores_)\n",
    "'''\n",
    "print(grid.grid_scores_[0].parameters)\n",
    "print(grid.grid_scores_[0].cv_validation_scores)\n",
    "print(grid.grid_scores_[0].mean_validation_score)\n",
    "'''\n",
    "\n",
    "print(grid.best_score_)\n",
    "print(grid.best_params_)\n",
    "print(grid.best_estimator_)\n",
    "\n",
    "#Train the best estimator on the train set\n",
    "knn_clf_1 = grid.best_estimator_.fit(X1_train_res,y1_train_res)\n",
    "\n",
    "#Predict the response of best estimator for val set\n",
    "knn_clf_1_pred = knn_clf_1.predict(X1_val)\n",
    "\n",
    "# Calculate the accuracy score\n",
    "knn_clf_1_score = metrics.accuracy_score(y1_val, knn_clf_1_pred)\n",
    "\n",
    "# Model Accuracy, how often is the classifier correct?\n",
    "print(\"Accuracy of Classifier 1 is: \",np.round(knn_clf_1_score*100, 2))"
   ]
  },
  {
   "cell_type": "markdown",
   "metadata": {
    "colab_type": "text",
    "id": "9arf62SuoVZz"
   },
   "source": [
    "#### Testing Classifier 1 on Test set"
   ]
  },
  {
   "cell_type": "code",
   "execution_count": 8,
   "metadata": {
    "colab": {},
    "colab_type": "code",
    "id": "5nL6dSz6oVZ0",
    "outputId": "696a2b63-9850-4140-849e-eb34ea9d0026"
   },
   "outputs": [
    {
     "name": "stdout",
     "output_type": "stream",
     "text": [
      "Accuracy of Classifier 1 is:  79.91\n"
     ]
    }
   ],
   "source": [
    "#Predict the response of best estimator for test set\n",
    "knn_clf_1_pred_test = knn_clf_1.predict(data_revised_1_X_test)\n",
    "\n",
    "# Calculate the accuracy score\n",
    "knn_clf_1_score_test = metrics.accuracy_score(data_revised_1_y_test, knn_clf_1_pred_test)\n",
    "\n",
    "# Model Accuracy, how often is the classifier correct?\n",
    "print(\"Accuracy of Classifier 1 is: \",np.round(knn_clf_1_score_test*100, 2))"
   ]
  },
  {
   "cell_type": "code",
   "execution_count": null,
   "metadata": {},
   "outputs": [],
   "source": []
  },
  {
   "cell_type": "code",
   "execution_count": null,
   "metadata": {},
   "outputs": [],
   "source": []
  },
  {
   "cell_type": "code",
   "execution_count": null,
   "metadata": {},
   "outputs": [],
   "source": []
  },
  {
   "cell_type": "code",
   "execution_count": null,
   "metadata": {},
   "outputs": [],
   "source": []
  },
  {
   "cell_type": "code",
   "execution_count": null,
   "metadata": {},
   "outputs": [],
   "source": []
  },
  {
   "cell_type": "markdown",
   "metadata": {
    "colab": {},
    "colab_type": "code",
    "id": "3RSZZGQAoVaI"
   },
   "source": [
    "#### Building Gaussian Naive Bayes Classifier"
   ]
  },
  {
   "cell_type": "code",
   "execution_count": 9,
   "metadata": {},
   "outputs": [],
   "source": [
    "from sklearn.naive_bayes import GaussianNB\n",
    "from sklearn import metrics\n",
    "from sklearn import preprocessing\n",
    "%matplotlib inline"
   ]
  },
  {
   "cell_type": "markdown",
   "metadata": {},
   "source": [
    "There isn't a hyper-parameter for Gaussian Naive Bayes to tune, so I didn't use grid search"
   ]
  },
  {
   "cell_type": "code",
   "execution_count": 10,
   "metadata": {},
   "outputs": [
    {
     "name": "stdout",
     "output_type": "stream",
     "text": [
      "Accuracy of Gaussian Naive Bayes is:  77.15\n"
     ]
    }
   ],
   "source": [
    "gnb1 = GaussianNB()\n",
    "#Train the model\n",
    "x_normalize = X1_train_res.values.astype(float)\n",
    "\n",
    "# Create a minimum and maximum processor object\n",
    "min_max_scaler = preprocessing.MinMaxScaler()\n",
    "\n",
    "# Create an object to transform the data to fit minmax processor\n",
    "x_scaled = min_max_scaler.fit_transform(x_normalize)\n",
    "\n",
    "# Run the normalizer on the dataframe\n",
    "X1_normalized = pd.DataFrame(x_scaled)\n",
    "\n",
    "gnb1.fit(X1_normalized,y1_train_res)\n",
    "\n",
    "#Predict the response for val set\n",
    "gnb1_pred = gnb1.predict(X1_val)\n",
    "\n",
    "# Calculate the accuracy score\n",
    "gnb1_score = metrics.accuracy_score(y1_val, gnb1_pred)\n",
    "\n",
    "# Model Accuracy, how often is the classifier correct?\n",
    "print(\"Accuracy of Gaussian Naive Bayes is: \",np.round(gnb1_score*100, 2))"
   ]
  },
  {
   "cell_type": "code",
   "execution_count": null,
   "metadata": {},
   "outputs": [],
   "source": [
    "model_fit(gnb1, print_FeatureImportance=False)"
   ]
  },
  {
   "cell_type": "markdown",
   "metadata": {
    "colab_type": "text",
    "id": "9arf62SuoVZz"
   },
   "source": [
    "#### Test Gaussian Naive Bayes on Test set"
   ]
  },
  {
   "cell_type": "code",
   "execution_count": 11,
   "metadata": {
    "colab": {},
    "colab_type": "code",
    "id": "5nL6dSz6oVZ0",
    "outputId": "696a2b63-9850-4140-849e-eb34ea9d0026"
   },
   "outputs": [
    {
     "name": "stdout",
     "output_type": "stream",
     "text": [
      "Accuracy of Gaussian Naive Bayes is:  80.79\n"
     ]
    }
   ],
   "source": [
    "#Predict the response for test set\n",
    "gnb1_pred_test = gnb1.predict(data_revised_1_X_test)\n",
    "\n",
    "# Calculate the accuracy score\n",
    "gnb1_score_test = metrics.accuracy_score(data_revised_1_y_test, gnb1_pred_test)\n",
    "\n",
    "# Model Accuracy, how often is the classifier correct?\n",
    "print(\"Accuracy of Gaussian Naive Bayes is: \",np.round(gnb1_score_test*100, 2))"
   ]
  },
  {
   "cell_type": "code",
   "execution_count": null,
   "metadata": {},
   "outputs": [],
   "source": [
    "model_fit(gnb1, print_FeatureImportance=False)"
   ]
  },
  {
   "cell_type": "code",
   "execution_count": null,
   "metadata": {},
   "outputs": [],
   "source": []
  },
  {
   "cell_type": "code",
   "execution_count": null,
   "metadata": {},
   "outputs": [],
   "source": []
  },
  {
   "cell_type": "code",
   "execution_count": null,
   "metadata": {},
   "outputs": [],
   "source": []
  },
  {
   "cell_type": "markdown",
   "metadata": {
    "colab_type": "text",
    "id": "XiNPt3oioVZ4"
   },
   "source": [
    "### Method 2 - ROSE (Random Over-Sampling Examples)\n",
    "\n",
    "ROSE uses smoothed bootstrapping to draw artificial samples from the feature space neighbourhood around the minority class."
   ]
  },
  {
   "cell_type": "code",
   "execution_count": 12,
   "metadata": {
    "colab": {},
    "colab_type": "code",
    "id": "UwEZTtlCoVZ4"
   },
   "outputs": [],
   "source": [
    "# Import ROS library\n",
    "from imblearn.over_sampling import RandomOverSampler\n",
    "\n",
    "# Use Random Over-Sampling to over-sample this training set\n",
    "sm = RandomOverSampler(random_state=12)\n",
    "X1_train_res, y1_train_res = sm.fit_sample(X1_train, y1_train)"
   ]
  },
  {
   "cell_type": "markdown",
   "metadata": {
    "colab_type": "text",
    "id": "C3A4T4GyoVZ8"
   },
   "source": [
    "#### Building KNN Classifier using GridSearchCV"
   ]
  },
  {
   "cell_type": "code",
   "execution_count": 13,
   "metadata": {
    "colab": {},
    "colab_type": "code",
    "id": "4dptLDU5oVZ9",
    "outputId": "21f0665b-178c-4e59-afb9-3444678adcc3"
   },
   "outputs": [
    {
     "name": "stdout",
     "output_type": "stream",
     "text": [
      "0.9544478527607362\n",
      "{'n_neighbors': 1, 'weights': 'uniform'}\n",
      "KNeighborsClassifier(algorithm='auto', leaf_size=30, metric='minkowski',\n",
      "           metric_params=None, n_jobs=None, n_neighbors=1, p=2,\n",
      "           weights='uniform')\n",
      "Accuracy of Classifier 2 is:  84.03\n"
     ]
    }
   ],
   "source": [
    "# Set a range for hyper-parameters\n",
    "k_range = list(range(1,19))\n",
    "weight_options = ['uniform', 'distance']\n",
    "\n",
    "param_grid = dict(n_neighbors = k_range, weights = weight_options)\n",
    "\n",
    "knn = KNeighborsClassifier()\n",
    "\n",
    "grid = GridSearchCV(knn, param_grid, cv=10, scoring='accuracy')\n",
    "grid.fit(X1_train_res,y1_train_res)\n",
    "\n",
    "#print(grid.grid_scores_)\n",
    "'''\n",
    "print(grid.grid_scores_[0].parameters)\n",
    "print(grid.grid_scores_[0].cv_validation_scores)\n",
    "print(grid.grid_scores_[0].mean_validation_score)\n",
    "'''\n",
    "\n",
    "print(grid.best_score_)\n",
    "print(grid.best_params_)\n",
    "print(grid.best_estimator_)\n",
    "\n",
    "#Train the best estimator on the train set\n",
    "knn_clf_2 = grid.best_estimator_.fit(X1_train_res,y1_train_res)\n",
    "\n",
    "#Predict the response of best estimator for val set\n",
    "knn_clf_2_pred = knn_clf_2.predict(X1_val)\n",
    "\n",
    "# Calculate the accuracy score\n",
    "knn_clf_2_score = metrics.accuracy_score(y1_val, knn_clf_2_pred)\n",
    "\n",
    "# Model Accuracy, how often is the classifier correct?\n",
    "print(\"Accuracy of Classifier 2 is: \",np.round(knn_clf_2_score*100, 2))"
   ]
  },
  {
   "cell_type": "markdown",
   "metadata": {
    "colab_type": "text",
    "id": "wBCb0vmVoVaB"
   },
   "source": [
    "#### Testing Classifier 2 on Test set"
   ]
  },
  {
   "cell_type": "code",
   "execution_count": 14,
   "metadata": {
    "colab": {},
    "colab_type": "code",
    "id": "QZXLGO6UoVaC",
    "outputId": "0ae49617-9341-4843-e8e5-fce0d2d6db28"
   },
   "outputs": [
    {
     "name": "stdout",
     "output_type": "stream",
     "text": [
      "Accuracy of Classifier 2 is:  84.11\n"
     ]
    }
   ],
   "source": [
    "#Predict the response of best estimator for test set\n",
    "knn_clf_2_pred_test = knn_clf_2.predict(data_revised_1_X_test)\n",
    "\n",
    "# Calculate the accuracy score\n",
    "knn_clf_2_score_test = metrics.accuracy_score(data_revised_1_y_test, knn_clf_2_pred_test)\n",
    "\n",
    "# Model Accuracy, how often is the classifier correct?\n",
    "print(\"Accuracy of Classifier 2 is: \",np.round(knn_clf_2_score_test*100, 2))"
   ]
  },
  {
   "cell_type": "markdown",
   "metadata": {
    "colab_type": "text",
    "id": "h-xYpbxXoVaG"
   },
   "source": [
    "**After evaluating the two different methods of handling imbalanced classes SMOTE and ROSE, what we could see is ROSE (Random Over-Sampling Examples) shows better prediction accuracy for KNN Classification Algorithm on this dataset.**"
   ]
  },
  {
   "cell_type": "code",
   "execution_count": null,
   "metadata": {
    "colab": {},
    "colab_type": "code",
    "id": "3RSZZGQAoVaI"
   },
   "outputs": [],
   "source": []
  },
  {
   "cell_type": "code",
   "execution_count": null,
   "metadata": {},
   "outputs": [],
   "source": []
  },
  {
   "cell_type": "code",
   "execution_count": null,
   "metadata": {},
   "outputs": [],
   "source": []
  },
  {
   "cell_type": "code",
   "execution_count": null,
   "metadata": {},
   "outputs": [],
   "source": []
  },
  {
   "cell_type": "markdown",
   "metadata": {
    "colab": {},
    "colab_type": "code",
    "id": "3RSZZGQAoVaI"
   },
   "source": [
    "#### Building Gaussian Naive Bayes Classifier"
   ]
  },
  {
   "cell_type": "code",
   "execution_count": 15,
   "metadata": {},
   "outputs": [],
   "source": [
    "from sklearn.naive_bayes import GaussianNB\n",
    "from sklearn import metrics"
   ]
  },
  {
   "cell_type": "markdown",
   "metadata": {},
   "source": [
    "There isn't a hyper-parameter for Gaussian Naive Bayes to tune, so I didn't use grid search"
   ]
  },
  {
   "cell_type": "code",
   "execution_count": 18,
   "metadata": {},
   "outputs": [
    {
     "name": "stdout",
     "output_type": "stream",
     "text": [
      "Accuracy of Gaussian Naive Bayes2 is:  78.87\n"
     ]
    }
   ],
   "source": [
    "gnb2 = GaussianNB()\n",
    "#Train the model\n",
    "x_normalize = X1_train_res.values.astype(float)\n",
    "\n",
    "# Create a minimum and maximum processor object\n",
    "min_max_scaler = preprocessing.MinMaxScaler()\n",
    "\n",
    "# Create an object to transform the data to fit minmax processor\n",
    "x_scaled = min_max_scaler.fit_transform(x_normalize)\n",
    "\n",
    "# Run the normalizer on the dataframe\n",
    "X1_normalized = pd.DataFrame(x_scaled)\n",
    "\n",
    "gnb2.fit(X1_normalized,y1_train_res)\n",
    "\n",
    "\n",
    "#Predict the response for val set\n",
    "gnb2_pred = gnb2.predict(X1_val)\n",
    "\n",
    "# Calculate the accuracy score\n",
    "gnb2_score = metrics.accuracy_score(y1_val, gnb2_pred)\n",
    "\n",
    "# Model Accuracy, how often is the classifier correct?\n",
    "print(\"Accuracy of Gaussian Naive Bayes2 is: \",np.round(gnb2_score*100, 2))"
   ]
  },
  {
   "cell_type": "code",
   "execution_count": null,
   "metadata": {},
   "outputs": [],
   "source": [
    "model_fit(gnb2, print_FeatureImportance=False)"
   ]
  },
  {
   "cell_type": "markdown",
   "metadata": {
    "colab_type": "text",
    "id": "9arf62SuoVZz"
   },
   "source": [
    "#### Test Gaussian Naive Bayes on Test set"
   ]
  },
  {
   "cell_type": "code",
   "execution_count": 19,
   "metadata": {
    "colab": {},
    "colab_type": "code",
    "id": "5nL6dSz6oVZ0",
    "outputId": "696a2b63-9850-4140-849e-eb34ea9d0026"
   },
   "outputs": [
    {
     "name": "stdout",
     "output_type": "stream",
     "text": [
      "Accuracy of Gaussian Naive Bayes2 is:  79.69\n"
     ]
    }
   ],
   "source": [
    "#Predict the response for test set\n",
    "gnb2_pred_test = gnb2.predict(data_revised_1_X_test)\n",
    "\n",
    "# Calculate the accuracy score\n",
    "gnb2_score_test = metrics.accuracy_score(data_revised_1_y_test, gnb2_pred_test)\n",
    "\n",
    "# Model Accuracy, how often is the classifier correct?\n",
    "print(\"Accuracy of Gaussian Naive Bayes2 is: \",np.round(gnb2_score_test*100, 2))"
   ]
  },
  {
   "cell_type": "code",
   "execution_count": null,
   "metadata": {},
   "outputs": [],
   "source": [
    "model_fit(gnb2, print_FeatureImportance=False)"
   ]
  },
  {
   "cell_type": "code",
   "execution_count": null,
   "metadata": {},
   "outputs": [],
   "source": []
  },
  {
   "cell_type": "code",
   "execution_count": null,
   "metadata": {},
   "outputs": [],
   "source": []
  }
 ],
 "metadata": {
  "colab": {
   "name": "Bank Marketing Project - KNN Classifier Modelling (Final).ipynb",
   "provenance": [],
   "version": "0.3.2"
  },
  "kernelspec": {
   "display_name": "Python 3",
   "language": "python",
   "name": "python3"
  },
  "language_info": {
   "codemirror_mode": {
    "name": "ipython",
    "version": 3
   },
   "file_extension": ".py",
   "mimetype": "text/x-python",
   "name": "python",
   "nbconvert_exporter": "python",
   "pygments_lexer": "ipython3",
   "version": "3.6.7"
  }
 },
 "nbformat": 4,
 "nbformat_minor": 1
}
